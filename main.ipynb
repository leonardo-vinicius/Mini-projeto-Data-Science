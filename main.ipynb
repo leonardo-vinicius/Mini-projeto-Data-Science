{
  "nbformat": 4,
  "nbformat_minor": 0,
  "metadata": {
    "colab": {
      "name": "main.ipynb",
      "provenance": [],
      "collapsed_sections": [],
      "mount_file_id": "1nXEJ12FQitKCRYRLhnjir4YpqDvsJcI9",
      "authorship_tag": "ABX9TyMU9FaXgp/lyHhksHiQ3ORk",
      "include_colab_link": true
    },
    "kernelspec": {
      "name": "python3",
      "display_name": "Python 3"
    },
    "language_info": {
      "name": "python"
    }
  },
  "cells": [
    {
      "cell_type": "markdown",
      "metadata": {
        "id": "view-in-github",
        "colab_type": "text"
      },
      "source": [
        "<a href=\"https://colab.research.google.com/github/leonardo-vinicius/Mini-projeto-Data-Science/blob/main/main.ipynb\" target=\"_parent\"><img src=\"https://colab.research.google.com/assets/colab-badge.svg\" alt=\"Open In Colab\"/></a>"
      ]
    },
    {
      "cell_type": "markdown",
      "source": [
        "# Mini projeto de ciência de dados\n",
        "  - análise e interpretação de dados em python\n",
        "  - construção de gráficos\n",
        "  - base de dados escolhida: cidades com o custo de vida saudável 2021\n",
        "\n",
        "link para base de dados: https://www.kaggle.com/datasets/prasertk/healthy-lifestyle-cities-report-2021"
      ],
      "metadata": {
        "id": "Zsp0sEPcF25O"
      }
    },
    {
      "cell_type": "code",
      "source": [
        "# Importação dos módulos\n",
        "import pandas as pd\n",
        "import matplotlib.pyplot as plt\n",
        "import numpy as np"
      ],
      "metadata": {
        "id": "rNQ3-JtsG1N4"
      },
      "execution_count": null,
      "outputs": []
    },
    {
      "cell_type": "code",
      "source": [
        "# Carregamento dos dados\n",
        "dados = pd.read_csv('/content/drive/MyDrive/Colab Notebooks/projeto-katie/healthy_lifestyle_city_2021.csv')"
      ],
      "metadata": {
        "id": "CWec2gzcLdZx"
      },
      "execution_count": null,
      "outputs": []
    },
    {
      "cell_type": "code",
      "source": [
        "# traduzindo as colunas\n",
        "dados.rename(columns = {'City':'Cidade', 'Sunshine hours(City)':'Horas de sol(cidade)','Cost of a bottle of water(City)':'Custo de uma garrafa de água(cidade)', \n",
        "'Obesity levels(Country)': 'Nível de obesidade(país)', 'Life expectancy(years) (Country)':'Expectativa de vida(país)', 'Pollution(Index score) (City)':'Nível de poluição(cidade)',\n",
        "'Annual avg. hours worked':'Horas trabalhadas anuais', 'Happiness levels(Country)':'Nível de felicidade(país)', 'Outdoor activities(City)':'Horas ao ar livre(cidade)',\n",
        "'Number of take out places(City)':'N° de lugares para visitar(cidade)', 'Cost of a monthly gym membership(City)':'Custo 1 mes academia(cidade)'}, inplace = True)\n",
        "data_frame = pd.DataFrame(dados)\n",
        "print(data_frame.columns)"
      ],
      "metadata": {
        "id": "nzJsAQhJTdi6"
      },
      "execution_count": null,
      "outputs": []
    },
    {
      "cell_type": "code",
      "source": [
        "# análise inicial dos dados\n",
        "dados.head(10)"
      ],
      "metadata": {
        "id": "-iZthskHc0qU",
        "colab": {
          "base_uri": "https://localhost:8080/",
          "height": 442
        },
        "outputId": "fe553f0f-455a-49f6-a117-16684a2641e0"
      },
      "execution_count": null,
      "outputs": [
        {
          "output_type": "execute_result",
          "data": {
            "text/plain": [
              "       Cidade  Rank Horas de sol(cidade) Custo de uma garrafa de água(cidade)  \\\n",
              "0   Amsterdam     1                 1858                                £1.92   \n",
              "1      Sydney     2                 2636                                £1.48   \n",
              "2      Vienna     3                 1884                                £1.94   \n",
              "3   Stockholm     4                 1821                                £1.72   \n",
              "4  Copenhagen     5                 1630                                £2.19   \n",
              "5    Helsinki     6                 1662                                £1.60   \n",
              "6     Fukuoka     7                 2769                                £0.78   \n",
              "7      Berlin     8                 1626                                £1.55   \n",
              "8   Barcelona     9                 2591                                £1.19   \n",
              "9   Vancouver    10                 1938                                £1.08   \n",
              "\n",
              "  Nível de obesidade(país)  Expectativa de vida(país)  \\\n",
              "0                   20.40%                       81.2   \n",
              "1                   29.00%                       82.1   \n",
              "2                   20.10%                       81.0   \n",
              "3                   20.60%                       81.8   \n",
              "4                   19.70%                       79.8   \n",
              "5                   22.20%                       80.4   \n",
              "6                    4.30%                       83.2   \n",
              "7                   22.30%                       80.6   \n",
              "8                   23.80%                       82.2   \n",
              "9                   29.40%                       81.7   \n",
              "\n",
              "  Nível de poluição(cidade) Horas trabalhadas anuais  \\\n",
              "0                     30.93                     1434   \n",
              "1                     26.86                     1712   \n",
              "2                     17.33                     1501   \n",
              "3                     19.63                     1452   \n",
              "4                     21.24                     1380   \n",
              "5                     13.08                     1540   \n",
              "6                         -                     1644   \n",
              "7                     39.41                     1386   \n",
              "8                     65.19                     1686   \n",
              "9                     24.26                     1670   \n",
              "\n",
              "   Nível de felicidade(país)  Horas ao ar livre(cidade)  \\\n",
              "0                       7.44                        422   \n",
              "1                       7.22                        406   \n",
              "2                       7.29                        132   \n",
              "3                       7.35                        129   \n",
              "4                       7.64                        154   \n",
              "5                       7.80                        113   \n",
              "6                       5.87                         35   \n",
              "7                       7.07                        254   \n",
              "8                       6.40                        585   \n",
              "9                       7.23                        218   \n",
              "\n",
              "   N° de lugares para visitar(cidade) Custo 1 mes academia(cidade)  \n",
              "0                                1048                       £34.90  \n",
              "1                                1103                       £41.66  \n",
              "2                                1008                       £25.74  \n",
              "3                                 598                       £37.31  \n",
              "4                                 523                       £32.53  \n",
              "5                                 309                       £35.23  \n",
              "6                                 539                       £55.87  \n",
              "7                                1729                       £26.11  \n",
              "8                                2344                       £37.80  \n",
              "9                                 788                       £31.04  "
            ],
            "text/html": [
              "\n",
              "  <div id=\"df-24acf12d-d407-4bec-903a-81e81963ea09\">\n",
              "    <div class=\"colab-df-container\">\n",
              "      <div>\n",
              "<style scoped>\n",
              "    .dataframe tbody tr th:only-of-type {\n",
              "        vertical-align: middle;\n",
              "    }\n",
              "\n",
              "    .dataframe tbody tr th {\n",
              "        vertical-align: top;\n",
              "    }\n",
              "\n",
              "    .dataframe thead th {\n",
              "        text-align: right;\n",
              "    }\n",
              "</style>\n",
              "<table border=\"1\" class=\"dataframe\">\n",
              "  <thead>\n",
              "    <tr style=\"text-align: right;\">\n",
              "      <th></th>\n",
              "      <th>Cidade</th>\n",
              "      <th>Rank</th>\n",
              "      <th>Horas de sol(cidade)</th>\n",
              "      <th>Custo de uma garrafa de água(cidade)</th>\n",
              "      <th>Nível de obesidade(país)</th>\n",
              "      <th>Expectativa de vida(país)</th>\n",
              "      <th>Nível de poluição(cidade)</th>\n",
              "      <th>Horas trabalhadas anuais</th>\n",
              "      <th>Nível de felicidade(país)</th>\n",
              "      <th>Horas ao ar livre(cidade)</th>\n",
              "      <th>N° de lugares para visitar(cidade)</th>\n",
              "      <th>Custo 1 mes academia(cidade)</th>\n",
              "    </tr>\n",
              "  </thead>\n",
              "  <tbody>\n",
              "    <tr>\n",
              "      <th>0</th>\n",
              "      <td>Amsterdam</td>\n",
              "      <td>1</td>\n",
              "      <td>1858</td>\n",
              "      <td>£1.92</td>\n",
              "      <td>20.40%</td>\n",
              "      <td>81.2</td>\n",
              "      <td>30.93</td>\n",
              "      <td>1434</td>\n",
              "      <td>7.44</td>\n",
              "      <td>422</td>\n",
              "      <td>1048</td>\n",
              "      <td>£34.90</td>\n",
              "    </tr>\n",
              "    <tr>\n",
              "      <th>1</th>\n",
              "      <td>Sydney</td>\n",
              "      <td>2</td>\n",
              "      <td>2636</td>\n",
              "      <td>£1.48</td>\n",
              "      <td>29.00%</td>\n",
              "      <td>82.1</td>\n",
              "      <td>26.86</td>\n",
              "      <td>1712</td>\n",
              "      <td>7.22</td>\n",
              "      <td>406</td>\n",
              "      <td>1103</td>\n",
              "      <td>£41.66</td>\n",
              "    </tr>\n",
              "    <tr>\n",
              "      <th>2</th>\n",
              "      <td>Vienna</td>\n",
              "      <td>3</td>\n",
              "      <td>1884</td>\n",
              "      <td>£1.94</td>\n",
              "      <td>20.10%</td>\n",
              "      <td>81.0</td>\n",
              "      <td>17.33</td>\n",
              "      <td>1501</td>\n",
              "      <td>7.29</td>\n",
              "      <td>132</td>\n",
              "      <td>1008</td>\n",
              "      <td>£25.74</td>\n",
              "    </tr>\n",
              "    <tr>\n",
              "      <th>3</th>\n",
              "      <td>Stockholm</td>\n",
              "      <td>4</td>\n",
              "      <td>1821</td>\n",
              "      <td>£1.72</td>\n",
              "      <td>20.60%</td>\n",
              "      <td>81.8</td>\n",
              "      <td>19.63</td>\n",
              "      <td>1452</td>\n",
              "      <td>7.35</td>\n",
              "      <td>129</td>\n",
              "      <td>598</td>\n",
              "      <td>£37.31</td>\n",
              "    </tr>\n",
              "    <tr>\n",
              "      <th>4</th>\n",
              "      <td>Copenhagen</td>\n",
              "      <td>5</td>\n",
              "      <td>1630</td>\n",
              "      <td>£2.19</td>\n",
              "      <td>19.70%</td>\n",
              "      <td>79.8</td>\n",
              "      <td>21.24</td>\n",
              "      <td>1380</td>\n",
              "      <td>7.64</td>\n",
              "      <td>154</td>\n",
              "      <td>523</td>\n",
              "      <td>£32.53</td>\n",
              "    </tr>\n",
              "    <tr>\n",
              "      <th>5</th>\n",
              "      <td>Helsinki</td>\n",
              "      <td>6</td>\n",
              "      <td>1662</td>\n",
              "      <td>£1.60</td>\n",
              "      <td>22.20%</td>\n",
              "      <td>80.4</td>\n",
              "      <td>13.08</td>\n",
              "      <td>1540</td>\n",
              "      <td>7.80</td>\n",
              "      <td>113</td>\n",
              "      <td>309</td>\n",
              "      <td>£35.23</td>\n",
              "    </tr>\n",
              "    <tr>\n",
              "      <th>6</th>\n",
              "      <td>Fukuoka</td>\n",
              "      <td>7</td>\n",
              "      <td>2769</td>\n",
              "      <td>£0.78</td>\n",
              "      <td>4.30%</td>\n",
              "      <td>83.2</td>\n",
              "      <td>-</td>\n",
              "      <td>1644</td>\n",
              "      <td>5.87</td>\n",
              "      <td>35</td>\n",
              "      <td>539</td>\n",
              "      <td>£55.87</td>\n",
              "    </tr>\n",
              "    <tr>\n",
              "      <th>7</th>\n",
              "      <td>Berlin</td>\n",
              "      <td>8</td>\n",
              "      <td>1626</td>\n",
              "      <td>£1.55</td>\n",
              "      <td>22.30%</td>\n",
              "      <td>80.6</td>\n",
              "      <td>39.41</td>\n",
              "      <td>1386</td>\n",
              "      <td>7.07</td>\n",
              "      <td>254</td>\n",
              "      <td>1729</td>\n",
              "      <td>£26.11</td>\n",
              "    </tr>\n",
              "    <tr>\n",
              "      <th>8</th>\n",
              "      <td>Barcelona</td>\n",
              "      <td>9</td>\n",
              "      <td>2591</td>\n",
              "      <td>£1.19</td>\n",
              "      <td>23.80%</td>\n",
              "      <td>82.2</td>\n",
              "      <td>65.19</td>\n",
              "      <td>1686</td>\n",
              "      <td>6.40</td>\n",
              "      <td>585</td>\n",
              "      <td>2344</td>\n",
              "      <td>£37.80</td>\n",
              "    </tr>\n",
              "    <tr>\n",
              "      <th>9</th>\n",
              "      <td>Vancouver</td>\n",
              "      <td>10</td>\n",
              "      <td>1938</td>\n",
              "      <td>£1.08</td>\n",
              "      <td>29.40%</td>\n",
              "      <td>81.7</td>\n",
              "      <td>24.26</td>\n",
              "      <td>1670</td>\n",
              "      <td>7.23</td>\n",
              "      <td>218</td>\n",
              "      <td>788</td>\n",
              "      <td>£31.04</td>\n",
              "    </tr>\n",
              "  </tbody>\n",
              "</table>\n",
              "</div>\n",
              "      <button class=\"colab-df-convert\" onclick=\"convertToInteractive('df-24acf12d-d407-4bec-903a-81e81963ea09')\"\n",
              "              title=\"Convert this dataframe to an interactive table.\"\n",
              "              style=\"display:none;\">\n",
              "        \n",
              "  <svg xmlns=\"http://www.w3.org/2000/svg\" height=\"24px\"viewBox=\"0 0 24 24\"\n",
              "       width=\"24px\">\n",
              "    <path d=\"M0 0h24v24H0V0z\" fill=\"none\"/>\n",
              "    <path d=\"M18.56 5.44l.94 2.06.94-2.06 2.06-.94-2.06-.94-.94-2.06-.94 2.06-2.06.94zm-11 1L8.5 8.5l.94-2.06 2.06-.94-2.06-.94L8.5 2.5l-.94 2.06-2.06.94zm10 10l.94 2.06.94-2.06 2.06-.94-2.06-.94-.94-2.06-.94 2.06-2.06.94z\"/><path d=\"M17.41 7.96l-1.37-1.37c-.4-.4-.92-.59-1.43-.59-.52 0-1.04.2-1.43.59L10.3 9.45l-7.72 7.72c-.78.78-.78 2.05 0 2.83L4 21.41c.39.39.9.59 1.41.59.51 0 1.02-.2 1.41-.59l7.78-7.78 2.81-2.81c.8-.78.8-2.07 0-2.86zM5.41 20L4 18.59l7.72-7.72 1.47 1.35L5.41 20z\"/>\n",
              "  </svg>\n",
              "      </button>\n",
              "      \n",
              "  <style>\n",
              "    .colab-df-container {\n",
              "      display:flex;\n",
              "      flex-wrap:wrap;\n",
              "      gap: 12px;\n",
              "    }\n",
              "\n",
              "    .colab-df-convert {\n",
              "      background-color: #E8F0FE;\n",
              "      border: none;\n",
              "      border-radius: 50%;\n",
              "      cursor: pointer;\n",
              "      display: none;\n",
              "      fill: #1967D2;\n",
              "      height: 32px;\n",
              "      padding: 0 0 0 0;\n",
              "      width: 32px;\n",
              "    }\n",
              "\n",
              "    .colab-df-convert:hover {\n",
              "      background-color: #E2EBFA;\n",
              "      box-shadow: 0px 1px 2px rgba(60, 64, 67, 0.3), 0px 1px 3px 1px rgba(60, 64, 67, 0.15);\n",
              "      fill: #174EA6;\n",
              "    }\n",
              "\n",
              "    [theme=dark] .colab-df-convert {\n",
              "      background-color: #3B4455;\n",
              "      fill: #D2E3FC;\n",
              "    }\n",
              "\n",
              "    [theme=dark] .colab-df-convert:hover {\n",
              "      background-color: #434B5C;\n",
              "      box-shadow: 0px 1px 3px 1px rgba(0, 0, 0, 0.15);\n",
              "      filter: drop-shadow(0px 1px 2px rgba(0, 0, 0, 0.3));\n",
              "      fill: #FFFFFF;\n",
              "    }\n",
              "  </style>\n",
              "\n",
              "      <script>\n",
              "        const buttonEl =\n",
              "          document.querySelector('#df-24acf12d-d407-4bec-903a-81e81963ea09 button.colab-df-convert');\n",
              "        buttonEl.style.display =\n",
              "          google.colab.kernel.accessAllowed ? 'block' : 'none';\n",
              "\n",
              "        async function convertToInteractive(key) {\n",
              "          const element = document.querySelector('#df-24acf12d-d407-4bec-903a-81e81963ea09');\n",
              "          const dataTable =\n",
              "            await google.colab.kernel.invokeFunction('convertToInteractive',\n",
              "                                                     [key], {});\n",
              "          if (!dataTable) return;\n",
              "\n",
              "          const docLinkHtml = 'Like what you see? Visit the ' +\n",
              "            '<a target=\"_blank\" href=https://colab.research.google.com/notebooks/data_table.ipynb>data table notebook</a>'\n",
              "            + ' to learn more about interactive tables.';\n",
              "          element.innerHTML = '';\n",
              "          dataTable['output_type'] = 'display_data';\n",
              "          await google.colab.output.renderOutput(dataTable, element);\n",
              "          const docLink = document.createElement('div');\n",
              "          docLink.innerHTML = docLinkHtml;\n",
              "          element.appendChild(docLink);\n",
              "        }\n",
              "      </script>\n",
              "    </div>\n",
              "  </div>\n",
              "  "
            ]
          },
          "metadata": {},
          "execution_count": 125
        }
      ]
    },
    {
      "cell_type": "code",
      "source": [
        "# mostrando o tipo dos dados antes de futuras transformações\n",
        "dados.info()"
      ],
      "metadata": {
        "id": "EOk7-GLAkhlb"
      },
      "execution_count": null,
      "outputs": []
    },
    {
      "cell_type": "code",
      "source": [
        "# Tratamento de dados\n",
        "\n",
        "# Rank não faz sentido já que os países estão em ordem, nos gráficos não dava para analisar\n",
        "# então decidi remover\n",
        "deletar = set(dados.columns) - {'Rank'}\n",
        "dados1 = dados[list(deletar)]\n",
        "\n",
        "# transformando colunas que eram objeto em float e int\n",
        "# essas colunas representam valores, mas por alguns símbolos se tornaram objeto\n",
        "# então as transformei\n",
        "dados1['Custo de uma garrafa de água(cidade)'] = dados1['Custo de uma garrafa de água(cidade)'].str.replace('£','')\n",
        "dados1['Custo 1 mes academia(cidade)'] = dados1['Custo 1 mes academia(cidade)'].str.replace('£','')\n",
        "dados1['Horas trabalhadas anuais'] = dados1['Horas trabalhadas anuais'].str.replace('-','0')\n",
        "dados1['Nível de poluição(cidade)'] = dados1['Nível de poluição(cidade)'].str.replace('-','0')\n",
        "dados1['Horas de sol(cidade)'] = dados1['Horas de sol(cidade)'].str.replace('-','0')\n",
        "dados1['Nível de obesidade(país)'] = dados1['Nível de obesidade(país)'].str.replace('%','')\n",
        "\n",
        "dados1['Custo de uma garrafa de água(cidade)'] = dados1['Custo de uma garrafa de água(cidade)'].astype('float')\n",
        "dados1['Custo 1 mes academia(cidade)'] = dados1['Custo 1 mes academia(cidade)'].astype('float')\n",
        "dados1['Nível de poluição(cidade)'] = dados1['Nível de poluição(cidade)'].astype('float')\n",
        "dados1['Nível de obesidade(país)'] = dados1['Nível de obesidade(país)'].astype('float')\n",
        "dados1['Horas trabalhadas anuais'] = dados1['Horas trabalhadas anuais'].astype('int')\n",
        "dados1['Horas de sol(cidade)'] = dados1['Horas de sol(cidade)'].astype('int')"
      ],
      "metadata": {
        "id": "rA4OK1M9exGe"
      },
      "execution_count": null,
      "outputs": []
    },
    {
      "cell_type": "code",
      "source": [
        "# para saber o tipo de dados das colunas\n",
        "# lembrando que o conjunto de dados agora é 'dados1' não mais 'dados'\n",
        "dados1.info()"
      ],
      "metadata": {
        "id": "9MvcAllaj1JM"
      },
      "execution_count": null,
      "outputs": []
    },
    {
      "cell_type": "code",
      "source": [
        "# Análises e Visualização\n",
        "# histograma geral dos dados\n",
        "dados1.hist(bins = 20, figsize=(10, 10), color = 'b');"
      ],
      "metadata": {
        "id": "FQHChP4oROUg"
      },
      "execution_count": null,
      "outputs": []
    },
    {
      "cell_type": "code",
      "source": [
        "# boxplot de n° de lugares para visitar\n",
        "dados1.boxplot(column=['N° de lugares para visitar(cidade)'])\n",
        "plt.rcParams[\"figure.figsize\"] = (8, 6);\n",
        "plt.rcParams[\"figure.facecolor\"] = 'white';\n",
        "plt.show()\n",
        "\n",
        "print('\\n')\n",
        "dados1.boxplot(column=['Expectativa de vida(país)'])\n",
        "plt.show()\n",
        "\n",
        "print('\\n')\n",
        "dados1.boxplot(column=['Nível de felicidade(país)'])\n",
        "plt.show()"
      ],
      "metadata": {
        "id": "EBmu9d3iamer"
      },
      "execution_count": null,
      "outputs": []
    },
    {
      "cell_type": "code",
      "source": [
        "dados2 = dados1.copy()\n",
        "dados2.drop(dados2[dados2['Horas trabalhadas anuais'] == 0].index, inplace = True)\n",
        "\n",
        "felicidade = dados2['Nível de felicidade(país)']\n",
        "horas_trabalhadas = dados2['Horas trabalhadas anuais']\n",
        "plt.scatter(felicidade, horas_trabalhadas)\n",
        "plt.grid(True)\n",
        "plt.xlabel('Nível de felicidade')\n",
        "plt.ylabel('Horas trabalhadas anuais')\n",
        "plt.show()\n",
        "\n",
        "# dados2['Horas trabalhadas anuais']\n",
        "# percebe-se com a vizualização desses dados, quanto maior o nível de felicidade do país, menor são\n",
        "# as horas trabalhadas anualmente."
      ],
      "metadata": {
        "id": "ZYaZ8Rnk-0gb",
        "colab": {
          "base_uri": "https://localhost:8080/",
          "height": 388
        },
        "outputId": "b0cfa320-a7f7-4de2-8064-bd6bb8d75581"
      },
      "execution_count": null,
      "outputs": [
        {
          "output_type": "display_data",
          "data": {
            "text/plain": [
              "<Figure size 576x432 with 1 Axes>"
            ],
            "image/png": "[encoded data removed]"
          },
          "metadata": {}
        }
      ]
    },
    {
      "cell_type": "code",
      "source": [
        "asia_e_oceania = ['Sydney', 'Fukuoka', 'Melbourne', 'Beijing', 'Bangkok', 'Jakarta', 'Seoul','Taipei', 'Mumbai', 'Tokyo', 'Hong Kong', 'Shanghai']\n",
        "europa = ['Amsterdam', 'Vienna', 'Stockholm', 'Copenhagen', 'Helsinki', 'Berlin', 'Barcelona', 'Madrid', 'Frankfurt', 'Geneva', 'Tel Aviv', 'Istanbul', 'Dublin', 'Brussels', 'Paris','Zurich', 'London', 'Milan', 'Moscow']\n",
        "am_sul = ['Buenos Aires', 'Sao Paulo']\n",
        "am_norte_e_central = ['Vancouver', 'Toronto', 'Los Angeles', 'Boston', 'Chicago','San Francisco', 'Washington, D.C.', 'New York', 'Mexico City']\n",
        "africa = ['Cairo', 'Johannesburg']\n",
        "\n",
        "continentes = ['África', 'América do Sul', 'América do Norte e Central', 'Europa', 'Ásia e Oceania']\n",
        "qtd_de_paises = [len(africa), len(am_sul), len(am_norte_e_central), len(europa), len(asia_e_oceania)]\n",
        "plt.rcParams[\"figure.figsize\"] = (12, 8)\n",
        "plt.figure(facecolor='white')\n",
        "print(\"Cidades com o custo de vida saudável 2021 por continentes\\n\")\n",
        "plt.pie(qtd_de_paises, labels = continentes, autopct= '%.lf%%')\n",
        "plt.show()"
      ],
      "metadata": {
        "id": "d1LxHXCrou6q",
        "colab": {
          "base_uri": "https://localhost:8080/",
          "height": 501
        },
        "outputId": "7ce666e0-6bb9-4863-b994-502b0c42b073"
      },
      "execution_count": null,
      "outputs": [
        {
          "output_type": "stream",
          "name": "stdout",
          "text": [
            "cidades com o custo de vida saudável 2021 por continentes\n",
            "\n"
          ]
        },
        {
          "output_type": "display_data",
          "data": {
            "text/plain": [
              "<Figure size 864x576 with 1 Axes>"
            ],
            "image/png": "[encoded data removed]"
          },
          "metadata": {}
        }
      ]
    }
  ]
}